{
 "cells": [
  {
   "cell_type": "code",
   "execution_count": 19,
   "metadata": {},
   "outputs": [
    {
     "name": "stdin",
     "output_type": "stream",
     "text": [
      "What is your name?  jerry\n",
      "Type in a number you would like to raise to a power to:  1\n",
      "Type in an exponent:  2\n"
     ]
    },
    {
     "name": "stdout",
     "output_type": "stream",
     "text": [
      "Something went wrong... please rerun the program.\n"
     ]
    }
   ],
   "source": [
    "import math\n",
    "\n",
    "error = \"Something went wrong... please rerun the program.\"\n",
    "name = input(\"What is your name? \")\n",
    "baseInput = input(\"Type in a number you would like to raise to a power to: \")\n",
    "exInput = input(\"Type in an exponent: \")\n",
    "\n",
    "try:\n",
    "    baseInput = int(baseInput)\n",
    "    exInput = int(exInput)\n",
    "    output = math.pow(baseInput, exInput)\n",
    "    print(\"Hi \" + name + \". Your number, \" + baseInput + \", raised to the power of \" + exInput + \" is \" + output + \".\")\n",
    "except:\n",
    "    print(error)    \n"
   ]
  }
 ],
 "metadata": {
  "kernelspec": {
   "display_name": "Python 3.7",
   "language": "python",
   "name": "python3"
  },
  "language_info": {
   "codemirror_mode": {
    "name": "ipython",
    "version": 3
   },
   "file_extension": ".py",
   "mimetype": "text/x-python",
   "name": "python",
   "nbconvert_exporter": "python",
   "pygments_lexer": "ipython3",
   "version": "3.7.0"
  }
 },
 "nbformat": 4,
 "nbformat_minor": 2
}
