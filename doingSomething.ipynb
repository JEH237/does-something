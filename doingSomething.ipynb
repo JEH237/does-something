{
 "cells": [
  {
   "cell_type": "code",
   "execution_count": 25,
   "metadata": {},
   "outputs": [
    {
     "name": "stdin",
     "output_type": "stream",
     "text": [
      "What is your name?  dominic\n",
      "Type in a number you would like to raise to a power to:  5\n",
      "Type in an exponent:  6\n"
     ]
    },
    {
     "name": "stdout",
     "output_type": "stream",
     "text": [
      "Hi dominic. Your number, 5.0, raised to the power of 6.0 is 15625.0.\n"
     ]
    }
   ],
   "source": [
    "import math\n",
    "\n",
    "error = \"Something went wrong... Please enter numbers when I ask for numbers >:^(. Please rerun the program.\"\n",
    "name = input(\"What is your name? \")\n",
    "baseInput = input(\"Type in a number you would like to raise to a power to: \")\n",
    "exInput = input(\"Type in an exponent: \")\n",
    "\n",
    "try:\n",
    "    baseInput = float(baseInput)\n",
    "    exInput = float(exInput)\n",
    "    output = math.pow(baseInput, exInput)\n",
    "    print(\"Hi \" + name + \". Your number, \" + str(baseInput) + \", raised to the power of \" + str(exInput) + \" is \" + str(output) + \".\")\n",
    "except:\n",
    "    print(error)    \n"
   ]
  }
 ],
 "metadata": {
  "kernelspec": {
   "display_name": "Python 3.7",
   "language": "python",
   "name": "python3"
  },
  "language_info": {
   "codemirror_mode": {
    "name": "ipython",
    "version": 3
   },
   "file_extension": ".py",
   "mimetype": "text/x-python",
   "name": "python",
   "nbconvert_exporter": "python",
   "pygments_lexer": "ipython3",
   "version": "3.7.0"
  }
 },
 "nbformat": 4,
 "nbformat_minor": 2
}
